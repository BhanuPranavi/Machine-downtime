{
 "cells": [
  {
   "cell_type": "code",
   "execution_count": 36,
   "id": "a0d50e46",
   "metadata": {},
   "outputs": [],
   "source": [
    "import pandas as pd\n",
    "import numpy as np\n",
    "import matplotlib.pyplot as plt\n",
    "import seaborn as sns"
   ]
  },
  {
   "cell_type": "code",
   "execution_count": 2,
   "id": "382714ea",
   "metadata": {},
   "outputs": [],
   "source": [
    "MD = pd.read_csv(\"/Users/Bhanu/Downloads/Data Set (2)/Machine Downtime.csv\")"
   ]
  },
  {
   "cell_type": "code",
   "execution_count": 3,
   "id": "02cb9179",
   "metadata": {},
   "outputs": [
    {
     "data": {
      "text/plain": [
       "(2500, 16)"
      ]
     },
     "execution_count": 3,
     "metadata": {},
     "output_type": "execute_result"
    }
   ],
   "source": [
    "MD.dtypes # It gives the data types of the columns\n"
   ]
  },
  {
   "cell_type": "code",
   "execution_count": 5,
   "id": "18281be3",
   "metadata": {
    "scrolled": true
   },
   "outputs": [
    {
     "data": {
      "text/html": [
       "<div>\n",
       "<style scoped>\n",
       "    .dataframe tbody tr th:only-of-type {\n",
       "        vertical-align: middle;\n",
       "    }\n",
       "\n",
       "    .dataframe tbody tr th {\n",
       "        vertical-align: top;\n",
       "    }\n",
       "\n",
       "    .dataframe thead th {\n",
       "        text-align: right;\n",
       "    }\n",
       "</style>\n",
       "<table border=\"1\" class=\"dataframe\">\n",
       "  <thead>\n",
       "    <tr style=\"text-align: right;\">\n",
       "      <th></th>\n",
       "      <th>Date</th>\n",
       "      <th>Machine_ID</th>\n",
       "      <th>Assembly_Line_No</th>\n",
       "      <th>Hydraulic_Pressure(bar)</th>\n",
       "      <th>Coolant_Pressure(bar)</th>\n",
       "      <th>Air_System_Pressure(bar)</th>\n",
       "      <th>Coolant_Temperature</th>\n",
       "      <th>Hydraulic_Oil_Temperature(°C)</th>\n",
       "      <th>Spindle_Bearing_Temperature(°C)</th>\n",
       "      <th>Spindle_Vibration(µm)</th>\n",
       "      <th>Tool_Vibration(µm)</th>\n",
       "      <th>Spindle_Speed(RPM)</th>\n",
       "      <th>Voltage(volts)</th>\n",
       "      <th>Torque(Nm)</th>\n",
       "      <th>Cutting(kN)</th>\n",
       "      <th>Downtime</th>\n",
       "    </tr>\n",
       "  </thead>\n",
       "  <tbody>\n",
       "    <tr>\n",
       "      <th>0</th>\n",
       "      <td>31-12-2021</td>\n",
       "      <td>Makino-L1-Unit1-2013</td>\n",
       "      <td>Shopfloor-L1</td>\n",
       "      <td>71.04</td>\n",
       "      <td>6.933725</td>\n",
       "      <td>6.284965</td>\n",
       "      <td>25.6</td>\n",
       "      <td>46.0</td>\n",
       "      <td>33.4</td>\n",
       "      <td>1.291</td>\n",
       "      <td>26.492</td>\n",
       "      <td>25892.0</td>\n",
       "      <td>335.0</td>\n",
       "      <td>24.055326</td>\n",
       "      <td>3.58</td>\n",
       "      <td>Machine_Failure</td>\n",
       "    </tr>\n",
       "    <tr>\n",
       "      <th>1</th>\n",
       "      <td>31-12-2021</td>\n",
       "      <td>Makino-L1-Unit1-2013</td>\n",
       "      <td>Shopfloor-L1</td>\n",
       "      <td>125.33</td>\n",
       "      <td>4.936892</td>\n",
       "      <td>6.196733</td>\n",
       "      <td>35.3</td>\n",
       "      <td>47.4</td>\n",
       "      <td>34.6</td>\n",
       "      <td>1.382</td>\n",
       "      <td>25.274</td>\n",
       "      <td>19856.0</td>\n",
       "      <td>368.0</td>\n",
       "      <td>14.202890</td>\n",
       "      <td>2.68</td>\n",
       "      <td>Machine_Failure</td>\n",
       "    </tr>\n",
       "    <tr>\n",
       "      <th>2</th>\n",
       "      <td>31-12-2021</td>\n",
       "      <td>Makino-L3-Unit1-2015</td>\n",
       "      <td>Shopfloor-L3</td>\n",
       "      <td>71.12</td>\n",
       "      <td>6.839413</td>\n",
       "      <td>6.655448</td>\n",
       "      <td>13.1</td>\n",
       "      <td>40.7</td>\n",
       "      <td>33.0</td>\n",
       "      <td>1.319</td>\n",
       "      <td>30.608</td>\n",
       "      <td>19851.0</td>\n",
       "      <td>325.0</td>\n",
       "      <td>24.049267</td>\n",
       "      <td>3.55</td>\n",
       "      <td>Machine_Failure</td>\n",
       "    </tr>\n",
       "    <tr>\n",
       "      <th>3</th>\n",
       "      <td>31-05-2022</td>\n",
       "      <td>Makino-L2-Unit1-2015</td>\n",
       "      <td>Shopfloor-L2</td>\n",
       "      <td>139.34</td>\n",
       "      <td>4.574382</td>\n",
       "      <td>6.560394</td>\n",
       "      <td>24.4</td>\n",
       "      <td>44.2</td>\n",
       "      <td>40.6</td>\n",
       "      <td>0.618</td>\n",
       "      <td>30.791</td>\n",
       "      <td>18461.0</td>\n",
       "      <td>360.0</td>\n",
       "      <td>25.860029</td>\n",
       "      <td>3.55</td>\n",
       "      <td>Machine_Failure</td>\n",
       "    </tr>\n",
       "    <tr>\n",
       "      <th>4</th>\n",
       "      <td>31-03-2022</td>\n",
       "      <td>Makino-L1-Unit1-2013</td>\n",
       "      <td>Shopfloor-L1</td>\n",
       "      <td>60.51</td>\n",
       "      <td>6.893182</td>\n",
       "      <td>6.141238</td>\n",
       "      <td>4.1</td>\n",
       "      <td>47.3</td>\n",
       "      <td>31.4</td>\n",
       "      <td>0.983</td>\n",
       "      <td>25.516</td>\n",
       "      <td>26526.0</td>\n",
       "      <td>354.0</td>\n",
       "      <td>25.515874</td>\n",
       "      <td>3.55</td>\n",
       "      <td>Machine_Failure</td>\n",
       "    </tr>\n",
       "  </tbody>\n",
       "</table>\n",
       "</div>"
      ],
      "text/plain": [
       "         Date            Machine_ID Assembly_Line_No  Hydraulic_Pressure(bar)  \\\n",
       "0  31-12-2021  Makino-L1-Unit1-2013     Shopfloor-L1                    71.04   \n",
       "1  31-12-2021  Makino-L1-Unit1-2013     Shopfloor-L1                   125.33   \n",
       "2  31-12-2021  Makino-L3-Unit1-2015     Shopfloor-L3                    71.12   \n",
       "3  31-05-2022  Makino-L2-Unit1-2015     Shopfloor-L2                   139.34   \n",
       "4  31-03-2022  Makino-L1-Unit1-2013     Shopfloor-L1                    60.51   \n",
       "\n",
       "   Coolant_Pressure(bar)  Air_System_Pressure(bar)  Coolant_Temperature  \\\n",
       "0               6.933725                  6.284965                 25.6   \n",
       "1               4.936892                  6.196733                 35.3   \n",
       "2               6.839413                  6.655448                 13.1   \n",
       "3               4.574382                  6.560394                 24.4   \n",
       "4               6.893182                  6.141238                  4.1   \n",
       "\n",
       "   Hydraulic_Oil_Temperature(°C)  Spindle_Bearing_Temperature(°C)  \\\n",
       "0                           46.0                             33.4   \n",
       "1                           47.4                             34.6   \n",
       "2                           40.7                             33.0   \n",
       "3                           44.2                             40.6   \n",
       "4                           47.3                             31.4   \n",
       "\n",
       "   Spindle_Vibration(µm)  Tool_Vibration(µm)  Spindle_Speed(RPM)  \\\n",
       "0                  1.291              26.492             25892.0   \n",
       "1                  1.382              25.274             19856.0   \n",
       "2                  1.319              30.608             19851.0   \n",
       "3                  0.618              30.791             18461.0   \n",
       "4                  0.983              25.516             26526.0   \n",
       "\n",
       "   Voltage(volts)  Torque(Nm)  Cutting(kN)         Downtime  \n",
       "0           335.0   24.055326         3.58  Machine_Failure  \n",
       "1           368.0   14.202890         2.68  Machine_Failure  \n",
       "2           325.0   24.049267         3.55  Machine_Failure  \n",
       "3           360.0   25.860029         3.55  Machine_Failure  \n",
       "4           354.0   25.515874         3.55  Machine_Failure  "
      ]
     },
     "execution_count": 5,
     "metadata": {},
     "output_type": "execute_result"
    }
   ],
   "source": [
    "MD.head() "
   ]
  },
  {
   "cell_type": "code",
   "execution_count": 6,
   "id": "b4a7b599",
   "metadata": {},
   "outputs": [
    {
     "data": {
      "text/html": [
       "<div>\n",
       "<style scoped>\n",
       "    .dataframe tbody tr th:only-of-type {\n",
       "        vertical-align: middle;\n",
       "    }\n",
       "\n",
       "    .dataframe tbody tr th {\n",
       "        vertical-align: top;\n",
       "    }\n",
       "\n",
       "    .dataframe thead th {\n",
       "        text-align: right;\n",
       "    }\n",
       "</style>\n",
       "<table border=\"1\" class=\"dataframe\">\n",
       "  <thead>\n",
       "    <tr style=\"text-align: right;\">\n",
       "      <th></th>\n",
       "      <th>Date</th>\n",
       "      <th>Machine_ID</th>\n",
       "      <th>Assembly_Line_No</th>\n",
       "      <th>Hydraulic_Pressure(bar)</th>\n",
       "      <th>Coolant_Pressure(bar)</th>\n",
       "      <th>Air_System_Pressure(bar)</th>\n",
       "      <th>Coolant_Temperature</th>\n",
       "      <th>Hydraulic_Oil_Temperature(°C)</th>\n",
       "      <th>Spindle_Bearing_Temperature(°C)</th>\n",
       "      <th>Spindle_Vibration(µm)</th>\n",
       "      <th>Tool_Vibration(µm)</th>\n",
       "      <th>Spindle_Speed(RPM)</th>\n",
       "      <th>Voltage(volts)</th>\n",
       "      <th>Torque(Nm)</th>\n",
       "      <th>Cutting(kN)</th>\n",
       "      <th>Downtime</th>\n",
       "    </tr>\n",
       "  </thead>\n",
       "  <tbody>\n",
       "    <tr>\n",
       "      <th>2495</th>\n",
       "      <td>01-02-2022</td>\n",
       "      <td>Makino-L1-Unit1-2013</td>\n",
       "      <td>Shopfloor-L1</td>\n",
       "      <td>112.715506</td>\n",
       "      <td>5.220885</td>\n",
       "      <td>6.196610</td>\n",
       "      <td>22.3</td>\n",
       "      <td>48.8</td>\n",
       "      <td>37.2</td>\n",
       "      <td>0.910</td>\n",
       "      <td>20.282</td>\n",
       "      <td>20974.0</td>\n",
       "      <td>282.0</td>\n",
       "      <td>22.761610</td>\n",
       "      <td>2.72</td>\n",
       "      <td>No_Machine_Failure</td>\n",
       "    </tr>\n",
       "    <tr>\n",
       "      <th>2496</th>\n",
       "      <td>01-02-2022</td>\n",
       "      <td>Makino-L1-Unit1-2013</td>\n",
       "      <td>Shopfloor-L1</td>\n",
       "      <td>103.086653</td>\n",
       "      <td>5.211886</td>\n",
       "      <td>7.074653</td>\n",
       "      <td>11.9</td>\n",
       "      <td>48.3</td>\n",
       "      <td>31.5</td>\n",
       "      <td>1.106</td>\n",
       "      <td>34.708</td>\n",
       "      <td>20951.0</td>\n",
       "      <td>319.0</td>\n",
       "      <td>22.786597</td>\n",
       "      <td>2.94</td>\n",
       "      <td>No_Machine_Failure</td>\n",
       "    </tr>\n",
       "    <tr>\n",
       "      <th>2497</th>\n",
       "      <td>01-02-2022</td>\n",
       "      <td>Makino-L2-Unit1-2015</td>\n",
       "      <td>Shopfloor-L2</td>\n",
       "      <td>118.643165</td>\n",
       "      <td>5.212991</td>\n",
       "      <td>6.530049</td>\n",
       "      <td>4.5</td>\n",
       "      <td>49.9</td>\n",
       "      <td>36.2</td>\n",
       "      <td>0.288</td>\n",
       "      <td>16.828</td>\n",
       "      <td>20958.0</td>\n",
       "      <td>335.0</td>\n",
       "      <td>22.778987</td>\n",
       "      <td>NaN</td>\n",
       "      <td>No_Machine_Failure</td>\n",
       "    </tr>\n",
       "    <tr>\n",
       "      <th>2498</th>\n",
       "      <td>01-02-2022</td>\n",
       "      <td>Makino-L3-Unit1-2015</td>\n",
       "      <td>Shopfloor-L3</td>\n",
       "      <td>145.855859</td>\n",
       "      <td>5.207777</td>\n",
       "      <td>6.402655</td>\n",
       "      <td>12.2</td>\n",
       "      <td>44.5</td>\n",
       "      <td>32.1</td>\n",
       "      <td>0.995</td>\n",
       "      <td>26.498</td>\n",
       "      <td>20935.0</td>\n",
       "      <td>376.0</td>\n",
       "      <td>22.804012</td>\n",
       "      <td>2.79</td>\n",
       "      <td>No_Machine_Failure</td>\n",
       "    </tr>\n",
       "    <tr>\n",
       "      <th>2499</th>\n",
       "      <td>01-02-2022</td>\n",
       "      <td>Makino-L2-Unit1-2015</td>\n",
       "      <td>Shopfloor-L2</td>\n",
       "      <td>96.690000</td>\n",
       "      <td>5.936610</td>\n",
       "      <td>7.109355</td>\n",
       "      <td>29.8</td>\n",
       "      <td>53.2</td>\n",
       "      <td>36.2</td>\n",
       "      <td>0.840</td>\n",
       "      <td>31.580</td>\n",
       "      <td>23576.0</td>\n",
       "      <td>385.0</td>\n",
       "      <td>24.409551</td>\n",
       "      <td>3.55</td>\n",
       "      <td>Machine_Failure</td>\n",
       "    </tr>\n",
       "  </tbody>\n",
       "</table>\n",
       "</div>"
      ],
      "text/plain": [
       "            Date            Machine_ID Assembly_Line_No  \\\n",
       "2495  01-02-2022  Makino-L1-Unit1-2013     Shopfloor-L1   \n",
       "2496  01-02-2022  Makino-L1-Unit1-2013     Shopfloor-L1   \n",
       "2497  01-02-2022  Makino-L2-Unit1-2015     Shopfloor-L2   \n",
       "2498  01-02-2022  Makino-L3-Unit1-2015     Shopfloor-L3   \n",
       "2499  01-02-2022  Makino-L2-Unit1-2015     Shopfloor-L2   \n",
       "\n",
       "      Hydraulic_Pressure(bar)  Coolant_Pressure(bar)  \\\n",
       "2495               112.715506               5.220885   \n",
       "2496               103.086653               5.211886   \n",
       "2497               118.643165               5.212991   \n",
       "2498               145.855859               5.207777   \n",
       "2499                96.690000               5.936610   \n",
       "\n",
       "      Air_System_Pressure(bar)  Coolant_Temperature  \\\n",
       "2495                  6.196610                 22.3   \n",
       "2496                  7.074653                 11.9   \n",
       "2497                  6.530049                  4.5   \n",
       "2498                  6.402655                 12.2   \n",
       "2499                  7.109355                 29.8   \n",
       "\n",
       "      Hydraulic_Oil_Temperature(°C)  Spindle_Bearing_Temperature(°C)  \\\n",
       "2495                           48.8                             37.2   \n",
       "2496                           48.3                             31.5   \n",
       "2497                           49.9                             36.2   \n",
       "2498                           44.5                             32.1   \n",
       "2499                           53.2                             36.2   \n",
       "\n",
       "      Spindle_Vibration(µm)  Tool_Vibration(µm)  Spindle_Speed(RPM)  \\\n",
       "2495                  0.910              20.282             20974.0   \n",
       "2496                  1.106              34.708             20951.0   \n",
       "2497                  0.288              16.828             20958.0   \n",
       "2498                  0.995              26.498             20935.0   \n",
       "2499                  0.840              31.580             23576.0   \n",
       "\n",
       "      Voltage(volts)  Torque(Nm)  Cutting(kN)            Downtime  \n",
       "2495           282.0   22.761610         2.72  No_Machine_Failure  \n",
       "2496           319.0   22.786597         2.94  No_Machine_Failure  \n",
       "2497           335.0   22.778987          NaN  No_Machine_Failure  \n",
       "2498           376.0   22.804012         2.79  No_Machine_Failure  \n",
       "2499           385.0   24.409551         3.55     Machine_Failure  "
      ]
     },
     "execution_count": 6,
     "metadata": {},
     "output_type": "execute_result"
    }
   ],
   "source": [
    "MD.tail()"
   ]
  },
  {
   "cell_type": "code",
   "execution_count": 7,
   "id": "3c30291e",
   "metadata": {},
   "outputs": [
    {
     "data": {
      "text/plain": [
       "Date                                object\n",
       "Machine_ID                          object\n",
       "Assembly_Line_No                    object\n",
       "Hydraulic_Pressure(bar)            float64\n",
       "Coolant_Pressure(bar)              float64\n",
       "Air_System_Pressure(bar)           float64\n",
       "Coolant_Temperature                float64\n",
       "Hydraulic_Oil_Temperature(°C)      float64\n",
       "Spindle_Bearing_Temperature(°C)    float64\n",
       "Spindle_Vibration(µm)              float64\n",
       "Tool_Vibration(µm)                 float64\n",
       "Spindle_Speed(RPM)                 float64\n",
       "Voltage(volts)                     float64\n",
       "Torque(Nm)                         float64\n",
       "Cutting(kN)                        float64\n",
       "Downtime                            object\n",
       "dtype: object"
      ]
     },
     "execution_count": 7,
     "metadata": {},
     "output_type": "execute_result"
    }
   ],
   "source": [
    "MD.dtypes"
   ]
  },
  {
   "cell_type": "code",
   "execution_count": 10,
   "id": "14bf6e05",
   "metadata": {},
   "outputs": [
    {
     "name": "stderr",
     "output_type": "stream",
     "text": [
      "C:\\Users\\Bhanu\\AppData\\Local\\Temp\\ipykernel_15512\\4147652999.py:1: UserWarning: Parsing dates in %d-%m-%Y format when dayfirst=False (the default) was specified. Pass `dayfirst=True` or specify a format to silence this warning.\n",
      "  pd.to_datetime(MD['Date'])\n"
     ]
    },
    {
     "data": {
      "text/plain": [
       "0      2021-12-31\n",
       "1      2021-12-31\n",
       "2      2021-12-31\n",
       "3      2022-05-31\n",
       "4      2022-03-31\n",
       "          ...    \n",
       "2495   2022-02-01\n",
       "2496   2022-02-01\n",
       "2497   2022-02-01\n",
       "2498   2022-02-01\n",
       "2499   2022-02-01\n",
       "Name: Date, Length: 2500, dtype: datetime64[ns]"
      ]
     },
     "execution_count": 10,
     "metadata": {},
     "output_type": "execute_result"
    }
   ],
   "source": [
    "\n",
    "pd.to_datetime(MD['Date'])\n"
   ]
  },
  {
   "cell_type": "code",
   "execution_count": 11,
   "id": "e7d0c8a0",
   "metadata": {},
   "outputs": [
    {
     "data": {
      "text/plain": [
       "Date                                object\n",
       "Machine_ID                          object\n",
       "Assembly_Line_No                    object\n",
       "Hydraulic_Pressure(bar)            float64\n",
       "Coolant_Pressure(bar)              float64\n",
       "Air_System_Pressure(bar)           float64\n",
       "Coolant_Temperature                float64\n",
       "Hydraulic_Oil_Temperature(°C)      float64\n",
       "Spindle_Bearing_Temperature(°C)    float64\n",
       "Spindle_Vibration(µm)              float64\n",
       "Tool_Vibration(µm)                 float64\n",
       "Spindle_Speed(RPM)                 float64\n",
       "Voltage(volts)                     float64\n",
       "Torque(Nm)                         float64\n",
       "Cutting(kN)                        float64\n",
       "Downtime                            object\n",
       "dtype: object"
      ]
     },
     "execution_count": 11,
     "metadata": {},
     "output_type": "execute_result"
    }
   ],
   "source": [
    "MD.dtypes"
   ]
  },
  {
   "cell_type": "code",
   "execution_count": 12,
   "id": "3dc3bd2b",
   "metadata": {},
   "outputs": [
    {
     "name": "stdout",
     "output_type": "stream",
     "text": [
      "Date                                0\n",
      "Machine_ID                          0\n",
      "Assembly_Line_No                    0\n",
      "Hydraulic_Pressure(bar)            10\n",
      "Coolant_Pressure(bar)              19\n",
      "Air_System_Pressure(bar)           17\n",
      "Coolant_Temperature                12\n",
      "Hydraulic_Oil_Temperature(°C)      16\n",
      "Spindle_Bearing_Temperature(°C)     7\n",
      "Spindle_Vibration(µm)              11\n",
      "Tool_Vibration(µm)                 11\n",
      "Spindle_Speed(RPM)                  6\n",
      "Voltage(volts)                      6\n",
      "Torque(Nm)                         21\n",
      "Cutting(kN)                         7\n",
      "Downtime                            0\n",
      "dtype: int64\n"
     ]
    }
   ],
   "source": [
    "\n",
    "# checking for null values\n",
    "null_values = MD.isnull()\n",
    "null_count = null_values.sum()\n",
    "print(null_count)\n"
   ]
  },
  {
   "cell_type": "code",
   "execution_count": 13,
   "id": "f2b7e799",
   "metadata": {},
   "outputs": [
    {
     "name": "stdout",
     "output_type": "stream",
     "text": [
      "Date                               0\n",
      "Machine_ID                         0\n",
      "Assembly_Line_No                   0\n",
      "Hydraulic_Pressure(bar)            0\n",
      "Coolant_Pressure(bar)              0\n",
      "Air_System_Pressure(bar)           0\n",
      "Coolant_Temperature                0\n",
      "Hydraulic_Oil_Temperature(°C)      0\n",
      "Spindle_Bearing_Temperature(°C)    0\n",
      "Spindle_Vibration(µm)              0\n",
      "Tool_Vibration(µm)                 0\n",
      "Spindle_Speed(RPM)                 0\n",
      "Voltage(volts)                     0\n",
      "Torque(Nm)                         0\n",
      "Cutting(kN)                        0\n",
      "Downtime                           0\n",
      "dtype: int64\n"
     ]
    }
   ],
   "source": [
    "# since we have found the null values we are imputing the null values with median \n",
    "MD.fillna(MD.median(numeric_only = True), inplace =True) \n",
    "# cross verifying the null values\n",
    "null_values = MD.isnull()\n",
    "null_count = null_values.sum()\n",
    "print(null_count)"
   ]
  },
  {
   "cell_type": "code",
   "execution_count": 14,
   "id": "3efba737",
   "metadata": {},
   "outputs": [
    {
     "name": "stdout",
     "output_type": "stream",
     "text": [
      "0\n"
     ]
    }
   ],
   "source": [
    "# Finding the duplicate values\n",
    "duplicate_rows= MD.duplicated().sum()\n",
    "print(duplicate_rows) # No duplicate rows"
   ]
  },
  {
   "cell_type": "code",
   "execution_count": 24,
   "id": "e61a3da9",
   "metadata": {},
   "outputs": [
    {
     "data": {
      "text/plain": [
       "101.390501388044"
      ]
     },
     "execution_count": 24,
     "metadata": {},
     "output_type": "execute_result"
    }
   ],
   "source": [
    "# Exploratory data analysis\n",
    "MD['Hydraulic_Pressure(bar)'].mean()"
   ]
  },
  {
   "cell_type": "code",
   "execution_count": 17,
   "id": "70350d68",
   "metadata": {},
   "outputs": [
    {
     "data": {
      "text/plain": [
       "96.7634864"
      ]
     },
     "execution_count": 17,
     "metadata": {},
     "output_type": "execute_result"
    }
   ],
   "source": [
    "MD['Hydraulic_Pressure(bar)'].median()"
   ]
  },
  {
   "cell_type": "code",
   "execution_count": 18,
   "id": "6d4e7897",
   "metadata": {},
   "outputs": [
    {
     "data": {
      "text/plain": [
       "0    88.279134\n",
       "1    89.458747\n",
       "2    90.458747\n",
       "Name: Hydraulic_Pressure(bar), dtype: float64"
      ]
     },
     "execution_count": 18,
     "metadata": {},
     "output_type": "execute_result"
    }
   ],
   "source": [
    "MD['Hydraulic_Pressure(bar)'].mode()"
   ]
  },
  {
   "cell_type": "code",
   "execution_count": 19,
   "id": "706b9d4e",
   "metadata": {},
   "outputs": [
    {
     "data": {
      "text/plain": [
       "913.856512785993"
      ]
     },
     "execution_count": 19,
     "metadata": {},
     "output_type": "execute_result"
    }
   ],
   "source": [
    "MD['Hydraulic_Pressure(bar)'].var()"
   ]
  },
  {
   "cell_type": "code",
   "execution_count": 20,
   "id": "a5af3848",
   "metadata": {},
   "outputs": [
    {
     "data": {
      "text/plain": [
       "30.230059754919324"
      ]
     },
     "execution_count": 20,
     "metadata": {},
     "output_type": "execute_result"
    }
   ],
   "source": [
    "MD['Hydraulic_Pressure(bar)'].std()"
   ]
  },
  {
   "cell_type": "code",
   "execution_count": 21,
   "id": "274c2b2f",
   "metadata": {},
   "outputs": [
    {
     "data": {
      "text/plain": [
       "205.32645418"
      ]
     },
     "execution_count": 21,
     "metadata": {},
     "output_type": "execute_result"
    }
   ],
   "source": [
    "max(MD['Hydraulic_Pressure(bar)'])- min(MD['Hydraulic_Pressure(bar)'])"
   ]
  },
  {
   "cell_type": "code",
   "execution_count": 22,
   "id": "ab561685",
   "metadata": {},
   "outputs": [
    {
     "data": {
      "text/plain": [
       "0.19927352851982258"
      ]
     },
     "execution_count": 22,
     "metadata": {},
     "output_type": "execute_result"
    }
   ],
   "source": [
    "MD['Hydraulic_Pressure(bar)'].skew()"
   ]
  },
  {
   "cell_type": "code",
   "execution_count": 23,
   "id": "356fcd97",
   "metadata": {},
   "outputs": [
    {
     "data": {
      "text/plain": [
       "-0.9118303601159998"
      ]
     },
     "execution_count": 23,
     "metadata": {},
     "output_type": "execute_result"
    }
   ],
   "source": [
    "MD['Hydraulic_Pressure(bar)'].kurt()"
   ]
  },
  {
   "cell_type": "code",
   "execution_count": 38,
   "id": "1c403e32",
   "metadata": {
    "scrolled": false
   },
   "outputs": [
    {
     "data": {
      "text/plain": [
       "Text(0.5, 1.0, 'Data distribution of hydraulic_Pressure(bar)')"
      ]
     },
     "execution_count": 38,
     "metadata": {},
     "output_type": "execute_result"
    },
    {
     "data": {
      "image/png": "[encoded data removed]",
      "text/plain": [
       "<Figure size 640x480 with 1 Axes>"
      ]
     },
     "metadata": {},
     "output_type": "display_data"
    }
   ],
   "source": [
    "plt.hist(MD['Hydraulic_Pressure(bar)'])\n",
    "plt.title('Data distribution of hydraulic_Pressure(bar)')"
   ]
  },
  {
   "cell_type": "code",
   "execution_count": 40,
   "id": "56860925",
   "metadata": {},
   "outputs": [
    {
     "data": {
      "text/plain": [
       "Text(0.5, 1.0, 'Outlier analysis of hydraulic_Pressure(bar)')"
      ]
     },
     "execution_count": 40,
     "metadata": {},
     "output_type": "execute_result"
    },
    {
     "data": {
      "image/png": "[encoded data removed]",
      "text/plain": [
       "<Figure size 640x480 with 1 Axes>"
      ]
     },
     "metadata": {},
     "output_type": "display_data"
    }
   ],
   "source": [
    "sns.boxplot(MD['Hydraulic_Pressure(bar)'])\n",
    "plt.title('Outlier analysis of hydraulic_Pressure(bar)')"
   ]
  },
  {
   "cell_type": "code",
   "execution_count": 41,
   "id": "8eb44eac",
   "metadata": {},
   "outputs": [
    {
     "data": {
      "text/plain": [
       "4.9470045267608"
      ]
     },
     "execution_count": 41,
     "metadata": {},
     "output_type": "execute_result"
    }
   ],
   "source": [
    "MD['Coolant_Pressure(bar)'].mean()"
   ]
  },
  {
   "cell_type": "code",
   "execution_count": 42,
   "id": "c45ed812",
   "metadata": {},
   "outputs": [
    {
     "data": {
      "text/plain": [
       "4.939960216"
      ]
     },
     "execution_count": 42,
     "metadata": {},
     "output_type": "execute_result"
    }
   ],
   "source": [
    "MD['Coolant_Pressure(bar)'].median()"
   ]
  },
  {
   "cell_type": "code",
   "execution_count": 43,
   "id": "596096d0",
   "metadata": {},
   "outputs": [
    {
     "data": {
      "text/plain": [
       "0    4.566854\n",
       "1    4.842521\n",
       "2    5.567857\n",
       "3    5.918357\n",
       "4    6.560332\n",
       "5    6.839413\n",
       "6    6.863944\n",
       "7    6.893182\n",
       "Name: Coolant_Pressure(bar), dtype: float64"
      ]
     },
     "execution_count": 43,
     "metadata": {},
     "output_type": "execute_result"
    }
   ],
   "source": [
    "MD['Coolant_Pressure(bar)'].mode()"
   ]
  },
  {
   "cell_type": "code",
   "execution_count": 44,
   "id": "f9e7d372",
   "metadata": {},
   "outputs": [
    {
     "data": {
      "text/plain": [
       "0.987158819217939"
      ]
     },
     "execution_count": 44,
     "metadata": {},
     "output_type": "execute_result"
    }
   ],
   "source": [
    "MD['Coolant_Pressure(bar)'].var()"
   ]
  },
  {
   "cell_type": "code",
   "execution_count": 45,
   "id": "8aba0f00",
   "metadata": {},
   "outputs": [
    {
     "data": {
      "text/plain": [
       "0.9935586642055612"
      ]
     },
     "execution_count": 45,
     "metadata": {},
     "output_type": "execute_result"
    }
   ],
   "source": [
    "MD['Coolant_Pressure(bar)'].std()"
   ]
  },
  {
   "cell_type": "code",
   "execution_count": 46,
   "id": "1e0527de",
   "metadata": {},
   "outputs": [
    {
     "data": {
      "text/plain": [
       "11.025"
      ]
     },
     "execution_count": 46,
     "metadata": {},
     "output_type": "execute_result"
    }
   ],
   "source": [
    "max(MD['Coolant_Pressure(bar)'])- min(MD['Coolant_Pressure(bar)'])"
   ]
  },
  {
   "cell_type": "code",
   "execution_count": 47,
   "id": "a0797075",
   "metadata": {},
   "outputs": [
    {
     "data": {
      "text/plain": [
       "0.14780567800036715"
      ]
     },
     "execution_count": 47,
     "metadata": {},
     "output_type": "execute_result"
    }
   ],
   "source": [
    "MD['Coolant_Pressure(bar)'].skew()"
   ]
  },
  {
   "cell_type": "code",
   "execution_count": 48,
   "id": "54259bbf",
   "metadata": {},
   "outputs": [
    {
     "data": {
      "text/plain": [
       "1.201405386644753"
      ]
     },
     "execution_count": 48,
     "metadata": {},
     "output_type": "execute_result"
    }
   ],
   "source": [
    "MD['Coolant_Pressure(bar)'].kurt()"
   ]
  },
  {
   "cell_type": "code",
   "execution_count": 49,
   "id": "bdbd9021",
   "metadata": {},
   "outputs": [
    {
     "data": {
      "text/plain": [
       "Text(0.5, 1.0, 'Data distribution of Coolant_Pressure(bar)')"
      ]
     },
     "execution_count": 49,
     "metadata": {},
     "output_type": "execute_result"
    },
    {
     "data": {
      "image/png": "[encoded data removed]",
      "text/plain": [
       "<Figure size 640x480 with 1 Axes>"
      ]
     },
     "metadata": {},
     "output_type": "display_data"
    }
   ],
   "source": [
    "plt.hist(MD['Coolant_Pressure(bar)'])\n",
    "plt.title('Data distribution of Coolant_Pressure(bar)')"
   ]
  },
  {
   "cell_type": "code",
   "execution_count": 50,
   "id": "9838d05b",
   "metadata": {},
   "outputs": [
    {
     "data": {
      "text/plain": [
       "Text(0.5, 1.0, 'Outlier analysis of hydraulic_Pressure(bar)')"
      ]
     },
     "execution_count": 50,
     "metadata": {},
     "output_type": "execute_result"
    },
    {
     "data": {
      "image/png": "[encoded data removed]",
      "text/plain": [
       "<Figure size 640x480 with 1 Axes>"
      ]
     },
     "metadata": {},
     "output_type": "display_data"
    }
   ],
   "source": [
    "sns.boxplot(MD['Hydraulic_Pressure(bar)'])\n",
    "plt.title('Outlier analysis of hydraulic_Pressure(bar)')"
   ]
  },
  {
   "cell_type": "code",
   "execution_count": 51,
   "id": "b188038e",
   "metadata": {},
   "outputs": [
    {
     "data": {
      "text/plain": [
       "6.4993148304908"
      ]
     },
     "execution_count": 51,
     "metadata": {},
     "output_type": "execute_result"
    }
   ],
   "source": [
    "MD['Air_System_Pressure(bar)'].mean()"
   ]
  },
  {
   "cell_type": "code",
   "execution_count": 52,
   "id": "e4235dc5",
   "metadata": {},
   "outputs": [
    {
     "data": {
      "text/plain": [
       "6.5051914"
      ]
     },
     "execution_count": 52,
     "metadata": {},
     "output_type": "execute_result"
    }
   ],
   "source": [
    "MD['Air_System_Pressure(bar)'].median()"
   ]
  },
  {
   "cell_type": "code",
   "execution_count": 53,
   "id": "2ed94b69",
   "metadata": {},
   "outputs": [
    {
     "data": {
      "text/plain": [
       "0    6.505191\n",
       "Name: Air_System_Pressure(bar), dtype: float64"
      ]
     },
     "execution_count": 53,
     "metadata": {},
     "output_type": "execute_result"
    }
   ],
   "source": [
    "MD['Air_System_Pressure(bar)'].mode()"
   ]
  },
  {
   "cell_type": "code",
   "execution_count": 54,
   "id": "cf8c47de",
   "metadata": {},
   "outputs": [
    {
     "data": {
      "text/plain": [
       "0.1647483446528015"
      ]
     },
     "execution_count": 54,
     "metadata": {},
     "output_type": "execute_result"
    }
   ],
   "source": [
    "MD['Air_System_Pressure(bar)'].var()"
   ]
  },
  {
   "cell_type": "code",
   "execution_count": 55,
   "id": "dc807ca7",
   "metadata": {},
   "outputs": [
    {
     "data": {
      "text/plain": [
       "0.4058920357099921"
      ]
     },
     "execution_count": 55,
     "metadata": {},
     "output_type": "execute_result"
    }
   ],
   "source": [
    "MD['Air_System_Pressure(bar)'].std()"
   ]
  },
  {
   "cell_type": "code",
   "execution_count": 56,
   "id": "9e0a1389",
   "metadata": {},
   "outputs": [
    {
     "data": {
      "text/plain": [
       "2.9105114929999996"
      ]
     },
     "execution_count": 56,
     "metadata": {},
     "output_type": "execute_result"
    }
   ],
   "source": [
    "max(MD['Air_System_Pressure(bar)'])- min(MD['Air_System_Pressure(bar)'])"
   ]
  },
  {
   "cell_type": "code",
   "execution_count": 57,
   "id": "fafef7f4",
   "metadata": {},
   "outputs": [
    {
     "data": {
      "text/plain": [
       "-0.05337753502064842"
      ]
     },
     "execution_count": 57,
     "metadata": {},
     "output_type": "execute_result"
    }
   ],
   "source": [
    "MD['Air_System_Pressure(bar)'].skew()"
   ]
  },
  {
   "cell_type": "code",
   "execution_count": 58,
   "id": "a379df02",
   "metadata": {},
   "outputs": [
    {
     "data": {
      "text/plain": [
       "0.018971472936445632"
      ]
     },
     "execution_count": 58,
     "metadata": {},
     "output_type": "execute_result"
    }
   ],
   "source": [
    "MD['Air_System_Pressure(bar)'].kurt()"
   ]
  },
  {
   "cell_type": "code",
   "execution_count": 59,
   "id": "e49d8e40",
   "metadata": {},
   "outputs": [
    {
     "data": {
      "text/plain": [
       "Text(0.5, 1.0, 'Data distribution of Air_System_Pressure(bar)')"
      ]
     },
     "execution_count": 59,
     "metadata": {},
     "output_type": "execute_result"
    },
    {
     "data": {
      "image/png": "[encoded data removed]",
      "text/plain": [
       "<Figure size 640x480 with 1 Axes>"
      ]
     },
     "metadata": {},
     "output_type": "display_data"
    }
   ],
   "source": [
    "plt.hist(MD['Air_System_Pressure(bar)'])\n",
    "plt.title('Data distribution of Air_System_Pressure(bar)')"
   ]
  },
  {
   "cell_type": "code",
   "execution_count": 60,
   "id": "fa3c32ab",
   "metadata": {},
   "outputs": [
    {
     "data": {
      "text/plain": [
       "Text(0.5, 1.0, 'Outlier analysis of Air_System_Pressure(bar)')"
      ]
     },
     "execution_count": 60,
     "metadata": {},
     "output_type": "execute_result"
    },
    {
     "data": {
      "image/png": "[encoded data removed]",
      "text/plain": [
       "<Figure size 640x480 with 1 Axes>"
      ]
     },
     "metadata": {},
     "output_type": "display_data"
    }
   ],
   "source": [
    "sns.boxplot(MD['Air_System_Pressure(bar)'])\n",
    "plt.title('Outlier analysis of Air_System_Pressure(bar)')"
   ]
  },
  {
   "cell_type": "code",
   "execution_count": 61,
   "id": "85f0e6c8",
   "metadata": {},
   "outputs": [
    {
     "data": {
      "text/plain": [
       "18.57256"
      ]
     },
     "execution_count": 61,
     "metadata": {},
     "output_type": "execute_result"
    }
   ],
   "source": [
    "MD['Coolant_Temperature'].mean()"
   ]
  },
  {
   "cell_type": "code",
   "execution_count": 62,
   "id": "edbd6e60",
   "metadata": {},
   "outputs": [
    {
     "data": {
      "text/plain": [
       "21.2"
      ]
     },
     "execution_count": 62,
     "metadata": {},
     "output_type": "execute_result"
    }
   ],
   "source": [
    "MD['Coolant_Temperature'].median()"
   ]
  },
  {
   "cell_type": "code",
   "execution_count": 63,
   "id": "365069c7",
   "metadata": {},
   "outputs": [
    {
     "data": {
      "text/plain": [
       "0    26.4\n",
       "Name: Coolant_Temperature, dtype: float64"
      ]
     },
     "execution_count": 63,
     "metadata": {},
     "output_type": "execute_result"
    }
   ],
   "source": [
    "MD['Coolant_Temperature'].mode()"
   ]
  },
  {
   "cell_type": "code",
   "execution_count": 64,
   "id": "4c4508ee",
   "metadata": {},
   "outputs": [
    {
     "data": {
      "text/plain": [
       "72.8610314589836"
      ]
     },
     "execution_count": 64,
     "metadata": {},
     "output_type": "execute_result"
    }
   ],
   "source": [
    "MD['Coolant_Temperature'].var()"
   ]
  },
  {
   "cell_type": "code",
   "execution_count": 65,
   "id": "16c9d67b",
   "metadata": {},
   "outputs": [
    {
     "data": {
      "text/plain": [
       "8.535867352471195"
      ]
     },
     "execution_count": 65,
     "metadata": {},
     "output_type": "execute_result"
    }
   ],
   "source": [
    "MD['Coolant_Temperature'].std()"
   ]
  },
  {
   "cell_type": "code",
   "execution_count": 66,
   "id": "7e7d70bf",
   "metadata": {},
   "outputs": [
    {
     "data": {
      "text/plain": [
       "94.10000000000001"
      ]
     },
     "execution_count": 66,
     "metadata": {},
     "output_type": "execute_result"
    }
   ],
   "source": [
    "max(MD['Coolant_Temperature'])- min(MD['Coolant_Temperature'])"
   ]
  },
  {
   "cell_type": "code",
   "execution_count": 67,
   "id": "573f5811",
   "metadata": {},
   "outputs": [
    {
     "data": {
      "text/plain": [
       "0.10417223000140949"
      ]
     },
     "execution_count": 67,
     "metadata": {},
     "output_type": "execute_result"
    }
   ],
   "source": [
    "MD['Coolant_Temperature'].skew()"
   ]
  },
  {
   "cell_type": "code",
   "execution_count": 68,
   "id": "b29d48d5",
   "metadata": {},
   "outputs": [
    {
     "data": {
      "text/plain": [
       "1.581860303876855"
      ]
     },
     "execution_count": 68,
     "metadata": {},
     "output_type": "execute_result"
    }
   ],
   "source": [
    "MD['Coolant_Temperature'].kurt()"
   ]
  },
  {
   "cell_type": "code",
   "execution_count": 69,
   "id": "03b41bc8",
   "metadata": {},
   "outputs": [
    {
     "data": {
      "text/plain": [
       "Text(0.5, 1.0, 'Data distribution of Coolant_Temperature')"
      ]
     },
     "execution_count": 69,
     "metadata": {},
     "output_type": "execute_result"
    },
    {
     "data": {
      "image/png": "[encoded data removed]",
      "text/plain": [
       "<Figure size 640x480 with 1 Axes>"
      ]
     },
     "metadata": {},
     "output_type": "display_data"
    }
   ],
   "source": [
    "plt.hist(MD['Coolant_Temperature'])\n",
    "plt.title('Data distribution of Coolant_Temperature')"
   ]
  },
  {
   "cell_type": "code",
   "execution_count": 70,
   "id": "5a5a1a90",
   "metadata": {},
   "outputs": [
    {
     "data": {
      "text/plain": [
       "Text(0.5, 1.0, 'Outlier analysis of Coolant_Temperature')"
      ]
     },
     "execution_count": 70,
     "metadata": {},
     "output_type": "execute_result"
    },
    {
     "data": {
      "image/png": "[encoded data removed]",
      "text/plain": [
       "<Figure size 640x480 with 1 Axes>"
      ]
     },
     "metadata": {},
     "output_type": "display_data"
    }
   ],
   "source": [
    "sns.boxplot(MD['Coolant_Temperature'])\n",
    "plt.title('Outlier analysis of Coolant_Temperature')"
   ]
  },
  {
   "cell_type": "code",
   "execution_count": 71,
   "id": "78e155f8",
   "metadata": {},
   "outputs": [
    {
     "data": {
      "text/plain": [
       "47.61884"
      ]
     },
     "execution_count": 71,
     "metadata": {},
     "output_type": "execute_result"
    }
   ],
   "source": [
    "MD['Hydraulic_Oil_Temperature(°C)'].mean()"
   ]
  },
  {
   "cell_type": "code",
   "execution_count": 72,
   "id": "1c79f4f1",
   "metadata": {},
   "outputs": [
    {
     "data": {
      "text/plain": [
       "47.7"
      ]
     },
     "execution_count": 72,
     "metadata": {},
     "output_type": "execute_result"
    }
   ],
   "source": [
    "MD['Hydraulic_Oil_Temperature(°C)'].median()"
   ]
  },
  {
   "cell_type": "code",
   "execution_count": 73,
   "id": "a6fe6857",
   "metadata": {},
   "outputs": [
    {
     "data": {
      "text/plain": [
       "0    47.7\n",
       "Name: Hydraulic_Oil_Temperature(°C), dtype: float64"
      ]
     },
     "execution_count": 73,
     "metadata": {},
     "output_type": "execute_result"
    }
   ],
   "source": [
    "MD['Hydraulic_Oil_Temperature(°C)'].mode()"
   ]
  },
  {
   "cell_type": "code",
   "execution_count": 74,
   "id": "4e160572",
   "metadata": {},
   "outputs": [
    {
     "data": {
      "text/plain": [
       "14.11201385994396"
      ]
     },
     "execution_count": 74,
     "metadata": {},
     "output_type": "execute_result"
    }
   ],
   "source": [
    "MD['Hydraulic_Oil_Temperature(°C)'].var()"
   ]
  },
  {
   "cell_type": "code",
   "execution_count": 75,
   "id": "583041a9",
   "metadata": {},
   "outputs": [
    {
     "data": {
      "text/plain": [
       "3.7565960469478163"
      ]
     },
     "execution_count": 75,
     "metadata": {},
     "output_type": "execute_result"
    }
   ],
   "source": [
    "MD['Hydraulic_Oil_Temperature(°C)'].std()"
   ]
  },
  {
   "cell_type": "code",
   "execution_count": 76,
   "id": "447403f6",
   "metadata": {},
   "outputs": [
    {
     "data": {
      "text/plain": [
       "26.199999999999996"
      ]
     },
     "execution_count": 76,
     "metadata": {},
     "output_type": "execute_result"
    }
   ],
   "source": [
    "max(MD['Hydraulic_Oil_Temperature(°C)'])- min(MD['Hydraulic_Oil_Temperature(°C)'])"
   ]
  },
  {
   "cell_type": "code",
   "execution_count": 77,
   "id": "04f4ee03",
   "metadata": {},
   "outputs": [
    {
     "data": {
      "text/plain": [
       "-0.0027156850680740215"
      ]
     },
     "execution_count": 77,
     "metadata": {},
     "output_type": "execute_result"
    }
   ],
   "source": [
    "MD['Hydraulic_Oil_Temperature(°C)'].skew()"
   ]
  },
  {
   "cell_type": "code",
   "execution_count": 78,
   "id": "0f3ba517",
   "metadata": {},
   "outputs": [
    {
     "data": {
      "text/plain": [
       "0.057723671955325795"
      ]
     },
     "execution_count": 78,
     "metadata": {},
     "output_type": "execute_result"
    }
   ],
   "source": [
    "MD['Hydraulic_Oil_Temperature(°C)'].kurt()"
   ]
  },
  {
   "cell_type": "code",
   "execution_count": 79,
   "id": "5a7dc524",
   "metadata": {},
   "outputs": [
    {
     "data": {
      "text/plain": [
       "Text(0.5, 1.0, 'Data distribution of Hydraulic_Oil_Temperature(°C)')"
      ]
     },
     "execution_count": 79,
     "metadata": {},
     "output_type": "execute_result"
    },
    {
     "data": {
      "image/png": "[encoded data removed]",
      "text/plain": [
       "<Figure size 640x480 with 1 Axes>"
      ]
     },
     "metadata": {},
     "output_type": "display_data"
    }
   ],
   "source": [
    "plt.hist(MD['Hydraulic_Oil_Temperature(°C)'])\n",
    "plt.title('Data distribution of Hydraulic_Oil_Temperature(°C)')"
   ]
  },
  {
   "cell_type": "code",
   "execution_count": 80,
   "id": "35a26860",
   "metadata": {},
   "outputs": [
    {
     "data": {
      "text/plain": [
       "Text(0.5, 1.0, 'Outlier analysis of Hydraulic_Oil_Temperature(°C)')"
      ]
     },
     "execution_count": 80,
     "metadata": {},
     "output_type": "execute_result"
    },
    {
     "data": {
      "image/png": "[encoded data removed]",
      "text/plain": [
       "<Figure size 640x480 with 1 Axes>"
      ]
     },
     "metadata": {},
     "output_type": "display_data"
    }
   ],
   "source": [
    "sns.boxplot(MD['Hydraulic_Oil_Temperature(°C)'])\n",
    "plt.title('Outlier analysis of Hydraulic_Oil_Temperature(°C)')"
   ]
  },
  {
   "cell_type": "code",
   "execution_count": 81,
   "id": "a200dafa",
   "metadata": {},
   "outputs": [
    {
     "data": {
      "text/plain": [
       "35.0638"
      ]
     },
     "execution_count": 81,
     "metadata": {},
     "output_type": "execute_result"
    }
   ],
   "source": [
    "MD['Spindle_Bearing_Temperature(°C)'].mean()"
   ]
  },
  {
   "cell_type": "code",
   "execution_count": 82,
   "id": "3dd9627e",
   "metadata": {},
   "outputs": [
    {
     "data": {
      "text/plain": [
       "35.1"
      ]
     },
     "execution_count": 82,
     "metadata": {},
     "output_type": "execute_result"
    }
   ],
   "source": [
    "MD['Spindle_Bearing_Temperature(°C)'].median()"
   ]
  },
  {
   "cell_type": "code",
   "execution_count": 83,
   "id": "38017afb",
   "metadata": {},
   "outputs": [
    {
     "data": {
      "text/plain": [
       "0    34.6\n",
       "Name: Spindle_Bearing_Temperature(°C), dtype: float64"
      ]
     },
     "execution_count": 83,
     "metadata": {},
     "output_type": "execute_result"
    }
   ],
   "source": [
    "MD['Spindle_Bearing_Temperature(°C)'].mode()"
   ]
  },
  {
   "cell_type": "code",
   "execution_count": 84,
   "id": "448eff01",
   "metadata": {},
   "outputs": [
    {
     "data": {
      "text/plain": [
       "14.134195238095263"
      ]
     },
     "execution_count": 84,
     "metadata": {},
     "output_type": "execute_result"
    }
   ],
   "source": [
    "MD['Spindle_Bearing_Temperature(°C)'].var()"
   ]
  },
  {
   "cell_type": "code",
   "execution_count": 85,
   "id": "30119d3e",
   "metadata": {},
   "outputs": [
    {
     "data": {
      "text/plain": [
       "3.7595472118454984"
      ]
     },
     "execution_count": 85,
     "metadata": {},
     "output_type": "execute_result"
    }
   ],
   "source": [
    "MD['Spindle_Bearing_Temperature(°C)'].std()"
   ]
  },
  {
   "cell_type": "code",
   "execution_count": 86,
   "id": "00fbd087",
   "metadata": {},
   "outputs": [
    {
     "data": {
      "text/plain": [
       "26.9"
      ]
     },
     "execution_count": 86,
     "metadata": {},
     "output_type": "execute_result"
    }
   ],
   "source": [
    "max(MD['Spindle_Bearing_Temperature(°C)'])- min(MD['Spindle_Bearing_Temperature(°C)'])"
   ]
  },
  {
   "cell_type": "code",
   "execution_count": 87,
   "id": "a40ed095",
   "metadata": {},
   "outputs": [
    {
     "data": {
      "text/plain": [
       "-0.036073535056318544"
      ]
     },
     "execution_count": 87,
     "metadata": {},
     "output_type": "execute_result"
    }
   ],
   "source": [
    "MD['Spindle_Bearing_Temperature(°C)'].skew()"
   ]
  },
  {
   "cell_type": "code",
   "execution_count": 88,
   "id": "e6bfa0e4",
   "metadata": {},
   "outputs": [
    {
     "data": {
      "text/plain": [
       "-0.03555595745053042"
      ]
     },
     "execution_count": 88,
     "metadata": {},
     "output_type": "execute_result"
    }
   ],
   "source": [
    "MD['Spindle_Bearing_Temperature(°C)'].kurt()"
   ]
  },
  {
   "cell_type": "code",
   "execution_count": 89,
   "id": "cd0f45f6",
   "metadata": {},
   "outputs": [
    {
     "data": {
      "text/plain": [
       "Text(0.5, 1.0, 'Data distribution of Spindle_Bearing_Temperature(°C)')"
      ]
     },
     "execution_count": 89,
     "metadata": {},
     "output_type": "execute_result"
    },
    {
     "data": {
      "image/png": "[encoded data removed]",
      "text/plain": [
       "<Figure size 640x480 with 1 Axes>"
      ]
     },
     "metadata": {},
     "output_type": "display_data"
    }
   ],
   "source": [
    "plt.hist(MD['Spindle_Bearing_Temperature(°C)'])\n",
    "plt.title('Data distribution of Spindle_Bearing_Temperature(°C)')"
   ]
  },
  {
   "cell_type": "code",
   "execution_count": 90,
   "id": "a33e18cd",
   "metadata": {},
   "outputs": [
    {
     "data": {
      "text/plain": [
       "Text(0.5, 1.0, 'Outlier analysis of Spindle_Bearing_Temperature(°C)')"
      ]
     },
     "execution_count": 90,
     "metadata": {},
     "output_type": "execute_result"
    },
    {
     "data": {
      "image/png": "[encoded data removed]",
      "text/plain": [
       "<Figure size 640x480 with 1 Axes>"
      ]
     },
     "metadata": {},
     "output_type": "display_data"
    }
   ],
   "source": [
    "sns.boxplot(MD['Spindle_Bearing_Temperature(°C)'])\n",
    "plt.title('Outlier analysis of Spindle_Bearing_Temperature(°C)')"
   ]
  },
  {
   "cell_type": "code",
   "execution_count": 91,
   "id": "53307e2a",
   "metadata": {},
   "outputs": [
    {
     "data": {
      "text/plain": [
       "1.0093284"
      ]
     },
     "execution_count": 91,
     "metadata": {},
     "output_type": "execute_result"
    }
   ],
   "source": [
    "MD['Spindle_Vibration(µm)'].mean()"
   ]
  },
  {
   "cell_type": "code",
   "execution_count": 92,
   "id": "b3753deb",
   "metadata": {},
   "outputs": [
    {
     "data": {
      "text/plain": [
       "1.008"
      ]
     },
     "execution_count": 92,
     "metadata": {},
     "output_type": "execute_result"
    }
   ],
   "source": [
    "MD['Spindle_Vibration(µm)'].median()"
   ]
  },
  {
   "cell_type": "code",
   "execution_count": 93,
   "id": "3b3f7117",
   "metadata": {},
   "outputs": [
    {
     "data": {
      "text/plain": [
       "0    1.008\n",
       "Name: Spindle_Vibration(µm), dtype: float64"
      ]
     },
     "execution_count": 93,
     "metadata": {},
     "output_type": "execute_result"
    }
   ],
   "source": [
    "MD['Spindle_Vibration(µm)'].mode()"
   ]
  },
  {
   "cell_type": "code",
   "execution_count": 94,
   "id": "e0e7a444",
   "metadata": {},
   "outputs": [
    {
     "data": {
      "text/plain": [
       "0.11706152836478634"
      ]
     },
     "execution_count": 94,
     "metadata": {},
     "output_type": "execute_result"
    }
   ],
   "source": [
    "MD['Spindle_Vibration(µm)'].var()"
   ]
  },
  {
   "cell_type": "code",
   "execution_count": 95,
   "id": "414b128a",
   "metadata": {},
   "outputs": [
    {
     "data": {
      "text/plain": [
       "0.3421425556179563"
      ]
     },
     "execution_count": 95,
     "metadata": {},
     "output_type": "execute_result"
    }
   ],
   "source": [
    "MD['Spindle_Vibration(µm)'].std()"
   ]
  },
  {
   "cell_type": "code",
   "execution_count": 96,
   "id": "bd93fae4",
   "metadata": {},
   "outputs": [
    {
     "data": {
      "text/plain": [
       "2.461"
      ]
     },
     "execution_count": 96,
     "metadata": {},
     "output_type": "execute_result"
    }
   ],
   "source": [
    "max(MD['Spindle_Vibration(µm)'])- min(MD['Spindle_Vibration(µm)'])"
   ]
  },
  {
   "cell_type": "code",
   "execution_count": 97,
   "id": "b1297f80",
   "metadata": {},
   "outputs": [
    {
     "data": {
      "text/plain": [
       "0.0015870126575937345"
      ]
     },
     "execution_count": 97,
     "metadata": {},
     "output_type": "execute_result"
    }
   ],
   "source": [
    "MD['Spindle_Vibration(µm)'].skew() "
   ]
  },
  {
   "cell_type": "code",
   "execution_count": 98,
   "id": "6b8dafa0",
   "metadata": {},
   "outputs": [
    {
     "data": {
      "text/plain": [
       "-0.005537416102254333"
      ]
     },
     "execution_count": 98,
     "metadata": {},
     "output_type": "execute_result"
    }
   ],
   "source": [
    "MD['Spindle_Vibration(µm)'].kurt()"
   ]
  },
  {
   "cell_type": "code",
   "execution_count": 99,
   "id": "7548f255",
   "metadata": {},
   "outputs": [
    {
     "data": {
      "text/plain": [
       "Text(0.5, 1.0, 'Data distribution of Spindle_Vibration(µm)')"
      ]
     },
     "execution_count": 99,
     "metadata": {},
     "output_type": "execute_result"
    },
    {
     "data": {
      "image/png": "[encoded data removed]",
      "text/plain": [
       "<Figure size 640x480 with 1 Axes>"
      ]
     },
     "metadata": {},
     "output_type": "display_data"
    }
   ],
   "source": [
    "plt.hist(MD['Spindle_Vibration(µm)'])\n",
    "plt.title('Data distribution of Spindle_Vibration(µm)')"
   ]
  },
  {
   "cell_type": "code",
   "execution_count": 100,
   "id": "e92a3424",
   "metadata": {},
   "outputs": [
    {
     "data": {
      "text/plain": [
       "Text(0.5, 1.0, 'Outlier analysis of Spindle_Vibration(µm)')"
      ]
     },
     "execution_count": 100,
     "metadata": {},
     "output_type": "execute_result"
    },
    {
     "data": {
      "image/png": "[encoded data removed]",
      "text/plain": [
       "<Figure size 640x480 with 1 Axes>"
      ]
     },
     "metadata": {},
     "output_type": "display_data"
    }
   ],
   "source": [
    "sns.boxplot(MD['Spindle_Vibration(µm)'])\n",
    "plt.title('Outlier analysis of Spindle_Vibration(µm)')"
   ]
  },
  {
   "cell_type": "code",
   "execution_count": 101,
   "id": "a9afa47e",
   "metadata": {},
   "outputs": [
    {
     "data": {
      "text/plain": [
       "25.4121644"
      ]
     },
     "execution_count": 101,
     "metadata": {},
     "output_type": "execute_result"
    }
   ],
   "source": [
    "MD['Tool_Vibration(µm)'].mean()"
   ]
  },
  {
   "cell_type": "code",
   "execution_count": 102,
   "id": "86f63956",
   "metadata": {},
   "outputs": [
    {
     "data": {
      "text/plain": [
       "25.455"
      ]
     },
     "execution_count": 102,
     "metadata": {},
     "output_type": "execute_result"
    }
   ],
   "source": [
    "MD['Tool_Vibration(µm)'].median()"
   ]
  },
  {
   "cell_type": "code",
   "execution_count": 103,
   "id": "2fedf99f",
   "metadata": {},
   "outputs": [
    {
     "data": {
      "text/plain": [
       "0    25.455\n",
       "Name: Tool_Vibration(µm), dtype: float64"
      ]
     },
     "execution_count": 103,
     "metadata": {},
     "output_type": "execute_result"
    }
   ],
   "source": [
    "MD['Tool_Vibration(µm)'].mode()"
   ]
  },
  {
   "cell_type": "code",
   "execution_count": 104,
   "id": "8e3629c5",
   "metadata": {},
   "outputs": [
    {
     "data": {
      "text/plain": [
       "41.254408060596965"
      ]
     },
     "execution_count": 104,
     "metadata": {},
     "output_type": "execute_result"
    }
   ],
   "source": [
    "MD['Tool_Vibration(µm)'].var()"
   ]
  },
  {
   "cell_type": "code",
   "execution_count": 105,
   "id": "90173a2d",
   "metadata": {},
   "outputs": [
    {
     "data": {
      "text/plain": [
       "6.422959447217222"
      ]
     },
     "execution_count": 105,
     "metadata": {},
     "output_type": "execute_result"
    }
   ],
   "source": [
    "MD['Tool_Vibration(µm)'].std()"
   ]
  },
  {
   "cell_type": "code",
   "execution_count": 106,
   "id": "385b7d21",
   "metadata": {},
   "outputs": [
    {
     "data": {
      "text/plain": [
       "43.565"
      ]
     },
     "execution_count": 106,
     "metadata": {},
     "output_type": "execute_result"
    }
   ],
   "source": [
    "max(MD['Tool_Vibration(µm)'])- min(MD['Tool_Vibration(µm)'])"
   ]
  },
  {
   "cell_type": "code",
   "execution_count": 107,
   "id": "20b79634",
   "metadata": {},
   "outputs": [
    {
     "data": {
      "text/plain": [
       "-0.061228199487949914"
      ]
     },
     "execution_count": 107,
     "metadata": {},
     "output_type": "execute_result"
    }
   ],
   "source": [
    "MD['Tool_Vibration(µm)'].skew()"
   ]
  },
  {
   "cell_type": "code",
   "execution_count": 108,
   "id": "2d44845f",
   "metadata": {},
   "outputs": [
    {
     "data": {
      "text/plain": [
       "0.01974875384499697"
      ]
     },
     "execution_count": 108,
     "metadata": {},
     "output_type": "execute_result"
    }
   ],
   "source": [
    "MD['Tool_Vibration(µm)'].kurt()"
   ]
  },
  {
   "cell_type": "code",
   "execution_count": 109,
   "id": "8940b8d4",
   "metadata": {},
   "outputs": [
    {
     "data": {
      "text/plain": [
       "Text(0.5, 1.0, 'Data distribution of Tool_Vibration(µm)')"
      ]
     },
     "execution_count": 109,
     "metadata": {},
     "output_type": "execute_result"
    },
    {
     "data": {
      "image/png": "[encoded data removed]",
      "text/plain": [
       "<Figure size 640x480 with 1 Axes>"
      ]
     },
     "metadata": {},
     "output_type": "display_data"
    }
   ],
   "source": [
    "plt.hist(MD['Tool_Vibration(µm)'])\n",
    "plt.title('Data distribution of Tool_Vibration(µm)')"
   ]
  },
  {
   "cell_type": "code",
   "execution_count": 110,
   "id": "fc0b7949",
   "metadata": {},
   "outputs": [
    {
     "data": {
      "text/plain": [
       "Text(0.5, 1.0, 'Outlier analysis of Tool_Vibration(µm)')"
      ]
     },
     "execution_count": 110,
     "metadata": {},
     "output_type": "execute_result"
    },
    {
     "data": {
      "image/png": "[encoded data removed]",
      "text/plain": [
       "<Figure size 640x480 with 1 Axes>"
      ]
     },
     "metadata": {},
     "output_type": "display_data"
    }
   ],
   "source": [
    "sns.boxplot(MD['Tool_Vibration(µm)'])\n",
    "plt.title('Outlier analysis of Tool_Vibration(µm)')"
   ]
  },
  {
   "cell_type": "code",
   "execution_count": 111,
   "id": "b1de089f",
   "metadata": {},
   "outputs": [
    {
     "data": {
      "text/plain": [
       "20274.4628"
      ]
     },
     "execution_count": 111,
     "metadata": {},
     "output_type": "execute_result"
    }
   ],
   "source": [
    "MD['Spindle_Speed(RPM)'].mean()"
   ]
  },
  {
   "cell_type": "code",
   "execution_count": 112,
   "id": "7241a487",
   "metadata": {},
   "outputs": [
    {
     "data": {
      "text/plain": [
       "20137.5"
      ]
     },
     "execution_count": 112,
     "metadata": {},
     "output_type": "execute_result"
    }
   ],
   "source": [
    "MD['Spindle_Speed(RPM)'].median()"
   ]
  },
  {
   "cell_type": "code",
   "execution_count": 113,
   "id": "c34dae72",
   "metadata": {},
   "outputs": [
    {
     "data": {
      "text/plain": [
       "0    17726.0\n",
       "Name: Spindle_Speed(RPM), dtype: float64"
      ]
     },
     "execution_count": 113,
     "metadata": {},
     "output_type": "execute_result"
    }
   ],
   "source": [
    "MD['Spindle_Speed(RPM)'].mode()"
   ]
  },
  {
   "cell_type": "code",
   "execution_count": 114,
   "id": "1524c301",
   "metadata": {},
   "outputs": [
    {
     "data": {
      "text/plain": [
       "14807397.222905312"
      ]
     },
     "execution_count": 114,
     "metadata": {},
     "output_type": "execute_result"
    }
   ],
   "source": [
    "MD['Spindle_Speed(RPM)'].var()"
   ]
  },
  {
   "cell_type": "code",
   "execution_count": 115,
   "id": "ae33aeab",
   "metadata": {},
   "outputs": [
    {
     "data": {
      "text/plain": [
       "3848.0381005007357"
      ]
     },
     "execution_count": 115,
     "metadata": {},
     "output_type": "execute_result"
    }
   ],
   "source": [
    "MD['Spindle_Speed(RPM)'].std()"
   ]
  },
  {
   "cell_type": "code",
   "execution_count": 116,
   "id": "0e0ef563",
   "metadata": {},
   "outputs": [
    {
     "data": {
      "text/plain": [
       "27957.0"
      ]
     },
     "execution_count": 116,
     "metadata": {},
     "output_type": "execute_result"
    }
   ],
   "source": [
    "max(MD['Spindle_Speed(RPM)'])- min(MD['Spindle_Speed(RPM)'])"
   ]
  },
  {
   "cell_type": "code",
   "execution_count": 117,
   "id": "d1306f67",
   "metadata": {},
   "outputs": [
    {
     "data": {
      "text/plain": [
       "-0.17242449188628498"
      ]
     },
     "execution_count": 117,
     "metadata": {},
     "output_type": "execute_result"
    }
   ],
   "source": [
    "MD['Spindle_Speed(RPM)'].skew()"
   ]
  },
  {
   "cell_type": "code",
   "execution_count": 118,
   "id": "90240114",
   "metadata": {},
   "outputs": [
    {
     "data": {
      "text/plain": [
       "1.355131806779391"
      ]
     },
     "execution_count": 118,
     "metadata": {},
     "output_type": "execute_result"
    }
   ],
   "source": [
    "MD['Spindle_Speed(RPM)'].kurt()"
   ]
  },
  {
   "cell_type": "code",
   "execution_count": 119,
   "id": "ab77bdbb",
   "metadata": {},
   "outputs": [
    {
     "data": {
      "text/plain": [
       "Text(0.5, 1.0, 'Data distribution of Spindle_Speed(RPM)')"
      ]
     },
     "execution_count": 119,
     "metadata": {},
     "output_type": "execute_result"
    },
    {
     "data": {
      "image/png": "[encoded data removed]",
      "text/plain": [
       "<Figure size 640x480 with 1 Axes>"
      ]
     },
     "metadata": {},
     "output_type": "display_data"
    }
   ],
   "source": [
    "plt.hist(MD['Spindle_Speed(RPM)'])\n",
    "plt.title('Data distribution of Spindle_Speed(RPM)')"
   ]
  },
  {
   "cell_type": "code",
   "execution_count": 120,
   "id": "bf8eda84",
   "metadata": {},
   "outputs": [
    {
     "data": {
      "text/plain": [
       "Text(0.5, 1.0, 'Outlier analysis of Spindle_Speed(RPM)')"
      ]
     },
     "execution_count": 120,
     "metadata": {},
     "output_type": "execute_result"
    },
    {
     "data": {
      "image/png": "[encoded data removed]",
      "text/plain": [
       "<Figure size 640x480 with 1 Axes>"
      ]
     },
     "metadata": {},
     "output_type": "display_data"
    }
   ],
   "source": [
    "sns.boxplot(MD['Spindle_Speed(RPM)'])\n",
    "plt.title('Outlier analysis of Spindle_Speed(RPM)')"
   ]
  },
  {
   "cell_type": "code",
   "execution_count": 121,
   "id": "7cb25d5b",
   "metadata": {},
   "outputs": [
    {
     "data": {
      "text/plain": [
       "348.9968"
      ]
     },
     "execution_count": 121,
     "metadata": {},
     "output_type": "execute_result"
    }
   ],
   "source": [
    "MD['Voltage(volts)'].mean()"
   ]
  },
  {
   "cell_type": "code",
   "execution_count": 122,
   "id": "2484b181",
   "metadata": {},
   "outputs": [
    {
     "data": {
      "text/plain": [
       "349.0"
      ]
     },
     "execution_count": 122,
     "metadata": {},
     "output_type": "execute_result"
    }
   ],
   "source": [
    "MD['Voltage(volts)'].median()"
   ]
  },
  {
   "cell_type": "code",
   "execution_count": 123,
   "id": "62ede51f",
   "metadata": {},
   "outputs": [
    {
     "data": {
      "text/plain": [
       "0    349.0\n",
       "Name: Voltage(volts), dtype: float64"
      ]
     },
     "execution_count": 123,
     "metadata": {},
     "output_type": "execute_result"
    }
   ],
   "source": [
    "MD['Voltage(volts)'].mode()"
   ]
  },
  {
   "cell_type": "code",
   "execution_count": 124,
   "id": "fdd5ef22",
   "metadata": {},
   "outputs": [
    {
     "data": {
      "text/plain": [
       "2054.0400057623006"
      ]
     },
     "execution_count": 124,
     "metadata": {},
     "output_type": "execute_result"
    }
   ],
   "source": [
    "MD['Voltage(volts)'].var()"
   ]
  },
  {
   "cell_type": "code",
   "execution_count": 125,
   "id": "14e8bde3",
   "metadata": {},
   "outputs": [
    {
     "data": {
      "text/plain": [
       "45.321518131703186"
      ]
     },
     "execution_count": 125,
     "metadata": {},
     "output_type": "execute_result"
    }
   ],
   "source": [
    "MD['Voltage(volts)'].std()"
   ]
  },
  {
   "cell_type": "code",
   "execution_count": 126,
   "id": "d1530f42",
   "metadata": {},
   "outputs": [
    {
     "data": {
      "text/plain": [
       "277.0"
      ]
     },
     "execution_count": 126,
     "metadata": {},
     "output_type": "execute_result"
    }
   ],
   "source": [
    "max(MD['Voltage(volts)'])- min(MD['Voltage(volts)'])"
   ]
  },
  {
   "cell_type": "code",
   "execution_count": 127,
   "id": "f2228f8e",
   "metadata": {},
   "outputs": [
    {
     "data": {
      "text/plain": [
       "-0.028692805784946783"
      ]
     },
     "execution_count": 127,
     "metadata": {},
     "output_type": "execute_result"
    }
   ],
   "source": [
    "MD['Voltage(volts)'].skew()"
   ]
  },
  {
   "cell_type": "code",
   "execution_count": 128,
   "id": "0cf63310",
   "metadata": {},
   "outputs": [
    {
     "data": {
      "text/plain": [
       "-0.08332477435138363"
      ]
     },
     "execution_count": 128,
     "metadata": {},
     "output_type": "execute_result"
    }
   ],
   "source": [
    "MD['Voltage(volts)'].kurt()"
   ]
  },
  {
   "cell_type": "code",
   "execution_count": 129,
   "id": "cbfc6a2c",
   "metadata": {},
   "outputs": [
    {
     "data": {
      "text/plain": [
       "Text(0.5, 1.0, 'Data distribution of Voltage(volts)')"
      ]
     },
     "execution_count": 129,
     "metadata": {},
     "output_type": "execute_result"
    },
    {
     "data": {
      "image/png": "[encoded data removed]",
      "text/plain": [
       "<Figure size 640x480 with 1 Axes>"
      ]
     },
     "metadata": {},
     "output_type": "display_data"
    }
   ],
   "source": [
    "plt.hist(MD['Voltage(volts)'])\n",
    "plt.title('Data distribution of Voltage(volts)')"
   ]
  },
  {
   "cell_type": "code",
   "execution_count": 130,
   "id": "8d2f3882",
   "metadata": {},
   "outputs": [
    {
     "data": {
      "text/plain": [
       "Text(0.5, 1.0, 'Outlier analysis of Voltage(volts)')"
      ]
     },
     "execution_count": 130,
     "metadata": {},
     "output_type": "execute_result"
    },
    {
     "data": {
      "image/png": "[encoded data removed]",
      "text/plain": [
       "<Figure size 640x480 with 1 Axes>"
      ]
     },
     "metadata": {},
     "output_type": "display_data"
    }
   ],
   "source": [
    "sns.boxplot(MD['Voltage(volts)'])\n",
    "plt.title('Outlier analysis of Voltage(volts)')"
   ]
  },
  {
   "cell_type": "code",
   "execution_count": 131,
   "id": "46b1321c",
   "metadata": {},
   "outputs": [
    {
     "data": {
      "text/plain": [
       "25.230034984192002"
      ]
     },
     "execution_count": 131,
     "metadata": {},
     "output_type": "execute_result"
    }
   ],
   "source": [
    "MD['Torque(Nm)'].mean()"
   ]
  },
  {
   "cell_type": "code",
   "execution_count": 132,
   "id": "51b50dc9",
   "metadata": {},
   "outputs": [
    {
     "data": {
      "text/plain": [
       "24.64773607"
      ]
     },
     "execution_count": 132,
     "metadata": {},
     "output_type": "execute_result"
    }
   ],
   "source": [
    "MD['Torque(Nm)'].median()"
   ]
  },
  {
   "cell_type": "code",
   "execution_count": 133,
   "id": "5a93b801",
   "metadata": {},
   "outputs": [
    {
     "data": {
      "text/plain": [
       "0    35.580334\n",
       "Name: Torque(Nm), dtype: float64"
      ]
     },
     "execution_count": 133,
     "metadata": {},
     "output_type": "execute_result"
    }
   ],
   "source": [
    "MD['Torque(Nm)'].mode()"
   ]
  },
  {
   "cell_type": "code",
   "execution_count": 134,
   "id": "cc3d7abb",
   "metadata": {},
   "outputs": [
    {
     "data": {
      "text/plain": [
       "37.36818051266777"
      ]
     },
     "execution_count": 134,
     "metadata": {},
     "output_type": "execute_result"
    }
   ],
   "source": [
    "MD['Torque(Nm)'].var()"
   ]
  },
  {
   "cell_type": "code",
   "execution_count": 135,
   "id": "d21e660c",
   "metadata": {},
   "outputs": [
    {
     "data": {
      "text/plain": [
       "6.112951865724756"
      ]
     },
     "execution_count": 135,
     "metadata": {},
     "output_type": "execute_result"
    }
   ],
   "source": [
    "MD['Torque(Nm)'].std()"
   ]
  },
  {
   "cell_type": "code",
   "execution_count": 136,
   "id": "78466386",
   "metadata": {},
   "outputs": [
    {
     "data": {
      "text/plain": [
       "55.5524"
      ]
     },
     "execution_count": 136,
     "metadata": {},
     "output_type": "execute_result"
    }
   ],
   "source": [
    "max(MD['Torque(Nm)'])- min(MD['Torque(Nm)'])"
   ]
  },
  {
   "cell_type": "code",
   "execution_count": 137,
   "id": "9ec9377a",
   "metadata": {},
   "outputs": [
    {
     "data": {
      "text/plain": [
       "0.03311875113757975"
      ]
     },
     "execution_count": 137,
     "metadata": {},
     "output_type": "execute_result"
    }
   ],
   "source": [
    "MD['Torque(Nm)'].skew()"
   ]
  },
  {
   "cell_type": "code",
   "execution_count": 138,
   "id": "d0f72a4f",
   "metadata": {},
   "outputs": [
    {
     "data": {
      "text/plain": [
       "-0.44443066420081934"
      ]
     },
     "execution_count": 138,
     "metadata": {},
     "output_type": "execute_result"
    }
   ],
   "source": [
    "MD['Torque(Nm)'].kurt()"
   ]
  },
  {
   "cell_type": "code",
   "execution_count": 139,
   "id": "95d10a59",
   "metadata": {},
   "outputs": [
    {
     "data": {
      "text/plain": [
       "Text(0.5, 1.0, 'Data distribution of Torque(Nm)')"
      ]
     },
     "execution_count": 139,
     "metadata": {},
     "output_type": "execute_result"
    },
    {
     "data": {
      "image/png": "[encoded data removed]",
      "text/plain": [
       "<Figure size 640x480 with 1 Axes>"
      ]
     },
     "metadata": {},
     "output_type": "display_data"
    }
   ],
   "source": [
    "plt.hist(MD['Torque(Nm)'])\n",
    "plt.title('Data distribution of Torque(Nm)')"
   ]
  },
  {
   "cell_type": "code",
   "execution_count": 140,
   "id": "8376db8d",
   "metadata": {},
   "outputs": [
    {
     "data": {
      "text/plain": [
       "Text(0.5, 1.0, 'Outlier analysis of Torque(Nm)')"
      ]
     },
     "execution_count": 140,
     "metadata": {},
     "output_type": "execute_result"
    },
    {
     "data": {
      "image/png": "[encoded data removed]",
      "text/plain": [
       "<Figure size 640x480 with 1 Axes>"
      ]
     },
     "metadata": {},
     "output_type": "display_data"
    }
   ],
   "source": [
    "sns.boxplot(MD['Torque(Nm)'])\n",
    "plt.title('Outlier analysis of Torque(Nm)')"
   ]
  },
  {
   "cell_type": "code",
   "execution_count": 141,
   "id": "ac14f01b",
   "metadata": {},
   "outputs": [
    {
     "data": {
      "text/plain": [
       "2.782544"
      ]
     },
     "execution_count": 141,
     "metadata": {},
     "output_type": "execute_result"
    }
   ],
   "source": [
    "MD['Cutting(kN)'].mean()"
   ]
  },
  {
   "cell_type": "code",
   "execution_count": 142,
   "id": "d887e321",
   "metadata": {},
   "outputs": [
    {
     "data": {
      "text/plain": [
       "2.78"
      ]
     },
     "execution_count": 142,
     "metadata": {},
     "output_type": "execute_result"
    }
   ],
   "source": [
    "MD['Cutting(kN)'].median()"
   ]
  },
  {
   "cell_type": "code",
   "execution_count": 143,
   "id": "04924904",
   "metadata": {},
   "outputs": [
    {
     "data": {
      "text/plain": [
       "0    3.55\n",
       "1    3.67\n",
       "Name: Cutting(kN), dtype: float64"
      ]
     },
     "execution_count": 143,
     "metadata": {},
     "output_type": "execute_result"
    }
   ],
   "source": [
    "MD['Cutting(kN)'].mode()"
   ]
  },
  {
   "cell_type": "code",
   "execution_count": 144,
   "id": "f9c65438",
   "metadata": {},
   "outputs": [
    {
     "data": {
      "text/plain": [
       "0.3792391437214893"
      ]
     },
     "execution_count": 144,
     "metadata": {},
     "output_type": "execute_result"
    }
   ],
   "source": [
    "MD['Cutting(kN)'].var()"
   ]
  },
  {
   "cell_type": "code",
   "execution_count": 145,
   "id": "ed9999c5",
   "metadata": {},
   "outputs": [
    {
     "data": {
      "text/plain": [
       "0.6158239551377401"
      ]
     },
     "execution_count": 145,
     "metadata": {},
     "output_type": "execute_result"
    }
   ],
   "source": [
    "MD['Cutting(kN)'].std()"
   ]
  },
  {
   "cell_type": "code",
   "execution_count": 146,
   "id": "b9e94a48",
   "metadata": {},
   "outputs": [
    {
     "data": {
      "text/plain": [
       "2.13"
      ]
     },
     "execution_count": 146,
     "metadata": {},
     "output_type": "execute_result"
    }
   ],
   "source": [
    "max(MD['Cutting(kN)'])- min(MD['Cutting(kN)'])"
   ]
  },
  {
   "cell_type": "code",
   "execution_count": 147,
   "id": "de6782d8",
   "metadata": {},
   "outputs": [
    {
     "data": {
      "text/plain": [
       "0.11415728879356883"
      ]
     },
     "execution_count": 147,
     "metadata": {},
     "output_type": "execute_result"
    }
   ],
   "source": [
    "MD['Cutting(kN)'].skew()"
   ]
  },
  {
   "cell_type": "code",
   "execution_count": 148,
   "id": "aa195012",
   "metadata": {},
   "outputs": [
    {
     "data": {
      "text/plain": [
       "-1.0817850712049017"
      ]
     },
     "execution_count": 148,
     "metadata": {},
     "output_type": "execute_result"
    }
   ],
   "source": [
    "MD['Cutting(kN)'].kurt()"
   ]
  },
  {
   "cell_type": "code",
   "execution_count": 149,
   "id": "e33fcdea",
   "metadata": {},
   "outputs": [
    {
     "data": {
      "text/plain": [
       "Text(0.5, 1.0, 'Data distribution of Cutting(kN)')"
      ]
     },
     "execution_count": 149,
     "metadata": {},
     "output_type": "execute_result"
    },
    {
     "data": {
      "image/png": "[encoded data removed]",
      "text/plain": [
       "<Figure size 640x480 with 1 Axes>"
      ]
     },
     "metadata": {},
     "output_type": "display_data"
    }
   ],
   "source": [
    "plt.hist(MD['Cutting(kN)'])\n",
    "plt.title('Data distribution of Cutting(kN)')"
   ]
  },
  {
   "cell_type": "code",
   "execution_count": 150,
   "id": "3762f111",
   "metadata": {},
   "outputs": [
    {
     "data": {
      "text/plain": [
       "Text(0.5, 1.0, 'Outlier analysis of Cutting(kN)')"
      ]
     },
     "execution_count": 150,
     "metadata": {},
     "output_type": "execute_result"
    },
    {
     "data": {
      "image/png": "[encoded data removed]",
      "text/plain": [
       "<Figure size 640x480 with 1 Axes>"
      ]
     },
     "metadata": {},
     "output_type": "display_data"
    }
   ],
   "source": [
    "sns.boxplot(MD['Cutting(kN)'])\n",
    "plt.title('Outlier analysis of Cutting(kN)')"
   ]
  },
  {
   "cell_type": "code",
   "execution_count": 156,
   "id": "62cda625",
   "metadata": {},
   "outputs": [
    {
     "name": "stdout",
     "output_type": "stream",
     "text": [
      "Correlation of Columns :\n",
      "                                 Hydraulic_Pressure(bar)  \\\n",
      "Hydraulic_Pressure(bar)                         1.000000   \n",
      "Coolant_Pressure(bar)                          -0.074172   \n",
      "Air_System_Pressure(bar)                       -0.029626   \n",
      "Coolant_Temperature                            -0.110024   \n",
      "Hydraulic_Oil_Temperature(°C)                   0.008757   \n",
      "Spindle_Bearing_Temperature(°C)                 0.022682   \n",
      "Spindle_Vibration(µm)                          -0.006549   \n",
      "Tool_Vibration(µm)                              0.020717   \n",
      "Spindle_Speed(RPM)                             -0.119812   \n",
      "Voltage(volts)                                 -0.004094   \n",
      "Torque(Nm)                                      0.161633   \n",
      "Cutting(kN)                                    -0.221135   \n",
      "\n",
      "                                 Coolant_Pressure(bar)  \\\n",
      "Hydraulic_Pressure(bar)                      -0.074172   \n",
      "Coolant_Pressure(bar)                         1.000000   \n",
      "Air_System_Pressure(bar)                     -0.028545   \n",
      "Coolant_Temperature                           0.007505   \n",
      "Hydraulic_Oil_Temperature(°C)                 0.001206   \n",
      "Spindle_Bearing_Temperature(°C)              -0.012655   \n",
      "Spindle_Vibration(µm)                         0.005601   \n",
      "Tool_Vibration(µm)                           -0.005029   \n",
      "Spindle_Speed(RPM)                            0.088646   \n",
      "Voltage(volts)                                0.030958   \n",
      "Torque(Nm)                                   -0.102676   \n",
      "Cutting(kN)                                   0.168051   \n",
      "\n",
      "                                 Air_System_Pressure(bar)  \\\n",
      "Hydraulic_Pressure(bar)                         -0.029626   \n",
      "Coolant_Pressure(bar)                           -0.028545   \n",
      "Air_System_Pressure(bar)                         1.000000   \n",
      "Coolant_Temperature                              0.047054   \n",
      "Hydraulic_Oil_Temperature(°C)                   -0.025746   \n",
      "Spindle_Bearing_Temperature(°C)                  0.009808   \n",
      "Spindle_Vibration(µm)                            0.008790   \n",
      "Tool_Vibration(µm)                               0.045424   \n",
      "Spindle_Speed(RPM)                              -0.001596   \n",
      "Voltage(volts)                                   0.006630   \n",
      "Torque(Nm)                                       0.036383   \n",
      "Cutting(kN)                                     -0.000804   \n",
      "\n",
      "                                 Coolant_Temperature  \\\n",
      "Hydraulic_Pressure(bar)                    -0.110024   \n",
      "Coolant_Pressure(bar)                       0.007505   \n",
      "Air_System_Pressure(bar)                    0.047054   \n",
      "Coolant_Temperature                         1.000000   \n",
      "Hydraulic_Oil_Temperature(°C)               0.004318   \n",
      "Spindle_Bearing_Temperature(°C)            -0.016708   \n",
      "Spindle_Vibration(µm)                       0.012022   \n",
      "Tool_Vibration(µm)                          0.007151   \n",
      "Spindle_Speed(RPM)                          0.072932   \n",
      "Voltage(volts)                              0.011629   \n",
      "Torque(Nm)                                 -0.070211   \n",
      "Cutting(kN)                                 0.096178   \n",
      "\n",
      "                                 Hydraulic_Oil_Temperature(°C)  \\\n",
      "Hydraulic_Pressure(bar)                               0.008757   \n",
      "Coolant_Pressure(bar)                                 0.001206   \n",
      "Air_System_Pressure(bar)                             -0.025746   \n",
      "Coolant_Temperature                                   0.004318   \n",
      "Hydraulic_Oil_Temperature(°C)                         1.000000   \n",
      "Spindle_Bearing_Temperature(°C)                       0.040740   \n",
      "Spindle_Vibration(µm)                                -0.006098   \n",
      "Tool_Vibration(µm)                                   -0.015489   \n",
      "Spindle_Speed(RPM)                                    0.004940   \n",
      "Voltage(volts)                                        0.026653   \n",
      "Torque(Nm)                                           -0.006830   \n",
      "Cutting(kN)                                          -0.019808   \n",
      "\n",
      "                                 Spindle_Bearing_Temperature(°C)  \\\n",
      "Hydraulic_Pressure(bar)                                 0.022682   \n",
      "Coolant_Pressure(bar)                                  -0.012655   \n",
      "Air_System_Pressure(bar)                                0.009808   \n",
      "Coolant_Temperature                                    -0.016708   \n",
      "Hydraulic_Oil_Temperature(°C)                           0.040740   \n",
      "Spindle_Bearing_Temperature(°C)                         1.000000   \n",
      "Spindle_Vibration(µm)                                  -0.035358   \n",
      "Tool_Vibration(µm)                                     -0.007203   \n",
      "Spindle_Speed(RPM)                                      0.030164   \n",
      "Voltage(volts)                                          0.014996   \n",
      "Torque(Nm)                                             -0.003283   \n",
      "Cutting(kN)                                             0.003069   \n",
      "\n",
      "                                 Spindle_Vibration(µm)  Tool_Vibration(µm)  \\\n",
      "Hydraulic_Pressure(bar)                      -0.006549            0.020717   \n",
      "Coolant_Pressure(bar)                         0.005601           -0.005029   \n",
      "Air_System_Pressure(bar)                      0.008790            0.045424   \n",
      "Coolant_Temperature                           0.012022            0.007151   \n",
      "Hydraulic_Oil_Temperature(°C)                -0.006098           -0.015489   \n",
      "Spindle_Bearing_Temperature(°C)              -0.035358           -0.007203   \n",
      "Spindle_Vibration(µm)                         1.000000           -0.019335   \n",
      "Tool_Vibration(µm)                           -0.019335            1.000000   \n",
      "Spindle_Speed(RPM)                            0.018724            0.008286   \n",
      "Voltage(volts)                                0.005345            0.021867   \n",
      "Torque(Nm)                                    0.027983           -0.018947   \n",
      "Cutting(kN)                                  -0.018661           -0.038442   \n",
      "\n",
      "                                 Spindle_Speed(RPM)  Voltage(volts)  \\\n",
      "Hydraulic_Pressure(bar)                   -0.119812       -0.004094   \n",
      "Coolant_Pressure(bar)                      0.088646        0.030958   \n",
      "Air_System_Pressure(bar)                  -0.001596        0.006630   \n",
      "Coolant_Temperature                        0.072932        0.011629   \n",
      "Hydraulic_Oil_Temperature(°C)              0.004940        0.026653   \n",
      "Spindle_Bearing_Temperature(°C)            0.030164        0.014996   \n",
      "Spindle_Vibration(µm)                      0.018724        0.005345   \n",
      "Tool_Vibration(µm)                         0.008286        0.021867   \n",
      "Spindle_Speed(RPM)                         1.000000       -0.018370   \n",
      "Voltage(volts)                            -0.018370        1.000000   \n",
      "Torque(Nm)                                -0.193476        0.006796   \n",
      "Cutting(kN)                                0.230384       -0.043250   \n",
      "\n",
      "                                 Torque(Nm)  Cutting(kN)  \n",
      "Hydraulic_Pressure(bar)            0.161633    -0.221135  \n",
      "Coolant_Pressure(bar)             -0.102676     0.168051  \n",
      "Air_System_Pressure(bar)           0.036383    -0.000804  \n",
      "Coolant_Temperature               -0.070211     0.096178  \n",
      "Hydraulic_Oil_Temperature(°C)     -0.006830    -0.019808  \n",
      "Spindle_Bearing_Temperature(°C)   -0.003283     0.003069  \n",
      "Spindle_Vibration(µm)              0.027983    -0.018661  \n",
      "Tool_Vibration(µm)                -0.018947    -0.038442  \n",
      "Spindle_Speed(RPM)                -0.193476     0.230384  \n",
      "Voltage(volts)                     0.006796    -0.043250  \n",
      "Torque(Nm)                         1.000000    -0.179512  \n",
      "Cutting(kN)                       -0.179512     1.000000  \n"
     ]
    }
   ],
   "source": [
    "column_corr = MD.corr(numeric_only = True)\n",
    "print(\"Correlation of Columns :\")\n",
    "print(column_corr)"
   ]
  },
  {
   "cell_type": "code",
   "execution_count": 155,
   "id": "8d67175e",
   "metadata": {},
   "outputs": [
    {
     "data": {
      "image/png": "[encoded data removed]",
      "text/plain": [
       "<Figure size 640x480 with 2 Axes>"
      ]
     },
     "metadata": {},
     "output_type": "display_data"
    }
   ],
   "source": [
    "sns.heatmap(column_corr, cmap='RdYlGn', xticklabels=column_corr.columns, yticklabels=column_corr.columns)\n",
    "plt.title('Correlation Heatmap')\n",
    "plt.show()"
   ]
  },
  {
   "cell_type": "code",
   "execution_count": null,
   "id": "10d3e4b0",
   "metadata": {},
   "outputs": [],
   "source": []
  }
 ],
 "metadata": {
  "kernelspec": {
   "display_name": "Python 3 (ipykernel)",
   "language": "python",
   "name": "python3"
  },
  "language_info": {
   "codemirror_mode": {
    "name": "ipython",
    "version": 3
   },
   "file_extension": ".py",
   "mimetype": "text/x-python",
   "name": "python",
   "nbconvert_exporter": "python",
   "pygments_lexer": "ipython3",
   "version": "3.11.5"
  }
 },
 "nbformat": 4,
 "nbformat_minor": 5
}
